{
  "nbformat": 4,
  "nbformat_minor": 0,
  "metadata": {
    "colab": {
      "provenance": []
    },
    "kernelspec": {
      "name": "python3",
      "display_name": "Python 3"
    },
    "language_info": {
      "name": "python"
    }
  },
  "cells": [
    {
      "cell_type": "code",
      "execution_count": 1,
      "metadata": {
        "colab": {
          "base_uri": "https://localhost:8080/"
        },
        "id": "GBYGxkE5psMu",
        "outputId": "937b03fd-ec95-489f-cb0e-8fb63b4b38ad"
      },
      "outputs": [
        {
          "output_type": "stream",
          "name": "stdout",
          "text": [
            "   sepal length (cm)  sepal width (cm)  petal length (cm)  petal width (cm)  \\\n",
            "0                5.1               3.5                1.4               0.2   \n",
            "1                4.9               3.0                1.4               0.2   \n",
            "2                4.7               3.2                1.3               0.2   \n",
            "3                4.6               3.1                1.5               0.2   \n",
            "4                5.0               3.6                1.4               0.2   \n",
            "\n",
            "  species  \n",
            "0  setosa  \n",
            "1  setosa  \n",
            "2  setosa  \n",
            "3  setosa  \n",
            "4  setosa  \n"
          ]
        }
      ],
      "source": [
        "# Import necessary libraries\n",
        "import pandas as pd\n",
        "from sklearn.datasets import load_iris\n",
        "\n",
        "# Load the Iris dataset\n",
        "iris = load_iris()\n",
        "data = pd.DataFrame(data=iris.data, columns=iris.feature_names)\n",
        "data['species'] = iris.target\n",
        "data['species'] = data['species'].map({0: 'setosa', 1: 'versicolor', 2: 'virginica'})\n",
        "\n",
        "# Display the first few rows\n",
        "print(data.head())\n"
      ]
    },
    {
      "cell_type": "code",
      "source": [
        "# T-Test\n",
        "# Import libraries for statistical tests\n",
        "from scipy.stats import ttest_ind\n",
        "\n",
        "# Filter data for the two species (e.g., setosa and versicolor)\n",
        "setosa = data[data['species'] == 'setosa']['petal length (cm)']\n",
        "versicolor = data[data['species'] == 'versicolor']['petal length (cm)']\n",
        "\n",
        "# Perform the independent t-test\n",
        "t_stat, p_value = ttest_ind(setosa, versicolor)\n",
        "\n",
        "# Display the results\n",
        "print(\"T-Test Results:\")\n",
        "print(f\"T-Statistic: {t_stat}, P-Value: {p_value}\")\n",
        "\n",
        "# Interpret the results\n",
        "if p_value < 0.05:\n",
        "    print(\"Reject the null hypothesis: The means are significantly different.\")\n",
        "else:\n",
        "    print(\"Fail to reject the null hypothesis: The means are not significantly different.\")\n"
      ],
      "metadata": {
        "colab": {
          "base_uri": "https://localhost:8080/"
        },
        "id": "-uMMGpRzqNxw",
        "outputId": "8479b82c-9a35-4296-9816-1d788b9e86bb"
      },
      "execution_count": 6,
      "outputs": [
        {
          "output_type": "stream",
          "name": "stdout",
          "text": [
            "T-Test Results:\n",
            "T-Statistic: -39.492719391538095, P-Value: 5.404910513441677e-62\n",
            "Reject the null hypothesis: The means are significantly different.\n"
          ]
        }
      ]
    },
    {
      "cell_type": "code",
      "source": [
        "# Z-Test (Test if the mean sepal length equals a specific value, e.g., 5.0)\n",
        "# Import ztest function\n",
        "from statsmodels.stats.weightstats import ztest\n",
        "\n",
        "# Filter data for one species (e.g., setosa)\n",
        "setosa_sepal_length = data[data['species'] == 'setosa']['sepal length (cm)']\n",
        "\n",
        "# Perform the Z-test\n",
        "z_stat, p_value = ztest(setosa_sepal_length, value=5.0)\n",
        "\n",
        "# Display the results\n",
        "print(\"Z-Test Results:\")\n",
        "print(f\"Z-Statistic: {z_stat}, P-Value: {p_value}\")\n",
        "\n",
        "# Interpret the results\n",
        "if p_value < 0.05:\n",
        "    print(\"Reject the null hypothesis: The mean is significantly different from 5.0.\")\n",
        "else:\n",
        "    print(\"Fail to reject the null hypothesis: The mean is not significantly different from 5.0.\")\n"
      ],
      "metadata": {
        "colab": {
          "base_uri": "https://localhost:8080/"
        },
        "id": "JAvyX2yVqY0Z",
        "outputId": "a3db1bcf-7f28-417a-aafa-5c294130d977"
      },
      "execution_count": 9,
      "outputs": [
        {
          "output_type": "stream",
          "name": "stdout",
          "text": [
            "Z-Test Results:\n",
            "Z-Statistic: 0.12036212238318056, P-Value: 0.9041962951772449\n",
            "Fail to reject the null hypothesis: The mean is not significantly different from 5.0.\n"
          ]
        }
      ]
    },
    {
      "cell_type": "code",
      "source": [],
      "metadata": {
        "id": "OQgo3zC4q2iA"
      },
      "execution_count": null,
      "outputs": []
    },
    {
      "cell_type": "code",
      "source": [
        "# ANOVA (Compare mean petal widths across all three species)\n",
        "# Import libraries for ANOVA\n",
        "from scipy.stats import f_oneway\n",
        "\n",
        "# Separate petal widths for all three species\n",
        "setosa_petal_width = data[data['species'] == 'setosa']['petal width (cm)']\n",
        "versicolor_petal_width = data[data['species'] == 'versicolor']['petal width (cm)']\n",
        "virginica_petal_width = data[data['species'] == 'virginica']['petal width (cm)']\n",
        "\n",
        "# Perform the ANOVA test\n",
        "f_stat, p_value = f_oneway(setosa_petal_width, versicolor_petal_width, virginica_petal_width)\n",
        "\n",
        "# Display the results\n",
        "print(\"ANOVA Results:\")\n",
        "print(f\"F-Statistic: {f_stat}, P-Value: {p_value}\")\n",
        "\n",
        "# Interpret the results\n",
        "if p_value < 0.05:\n",
        "    print(\"Reject the null hypothesis: At least one mean is significantly different.\")\n",
        "else:\n",
        "    print(\"Fail to reject the null hypothesis: All means are equal.\")\n"
      ],
      "metadata": {
        "colab": {
          "base_uri": "https://localhost:8080/"
        },
        "id": "HP0WHTHFqjLZ",
        "outputId": "df6aee6f-4163-419b-a15b-26122b089ff8"
      },
      "execution_count": 10,
      "outputs": [
        {
          "output_type": "stream",
          "name": "stdout",
          "text": [
            "ANOVA Results:\n",
            "F-Statistic: 960.007146801809, P-Value: 4.169445839443116e-85\n",
            "Reject the null hypothesis: At least one mean is significantly different.\n"
          ]
        }
      ]
    },
    {
      "cell_type": "code",
      "source": [
        "# Correlation/Regression\n",
        "# Import libraries for correlation and regression\n",
        "import numpy as np\n",
        "from scipy.stats import pearsonr\n",
        "import matplotlib.pyplot as plt\n",
        "from sklearn.linear_model import LinearRegression\n",
        "\n",
        "# Extract variables\n",
        "sepal_length = data['sepal length (cm)']\n",
        "petal_length = data['petal length (cm)']\n",
        "\n",
        "# Calculate correlation\n",
        "correlation, p_value = pearsonr(sepal_length, petal_length)\n",
        "print(\"Correlation Results:\")\n",
        "print(f\"Correlation Coefficient: {correlation}, P-Value: {p_value}\")\n",
        "\n",
        "# Perform regression analysis\n",
        "X = sepal_length.values.reshape(-1, 1)  # Reshape for sklearn\n",
        "y = petal_length\n",
        "\n",
        "reg = LinearRegression()\n",
        "reg.fit(X, y)\n",
        "\n",
        "# Get regression coefficients\n",
        "slope = reg.coef_[0]\n",
        "intercept = reg.intercept_\n",
        "\n",
        "print(f\"Regression Equation: y = {slope:.2f}x + {intercept:.2f}\")\n",
        "\n",
        "# Plot the relationship\n",
        "plt.scatter(sepal_length, petal_length, color='blue', label='Data Points')\n",
        "plt.plot(sepal_length, reg.predict(X), color='red', label='Regression Line')\n",
        "plt.xlabel('Sepal Length (cm)')\n",
        "plt.ylabel('Petal Length (cm)')\n",
        "plt.title('Sepal Length vs. Petal Length')\n",
        "plt.legend()\n",
        "plt.show()\n"
      ],
      "metadata": {
        "colab": {
          "base_uri": "https://localhost:8080/",
          "height": 524
        },
        "id": "ie7eDLjKq7at",
        "outputId": "01db113d-8bda-4640-d18b-44be47b55f5f"
      },
      "execution_count": 11,
      "outputs": [
        {
          "output_type": "stream",
          "name": "stdout",
          "text": [
            "Correlation Results:\n",
            "Correlation Coefficient: 0.8717537758865831, P-Value: 1.0386674194498827e-47\n",
            "Regression Equation: y = 1.86x + -7.10\n"
          ]
        },
        {
          "output_type": "display_data",
          "data": {
            "text/plain": [
              "<Figure size 640x480 with 1 Axes>"
            ],
            "image/png": "[encoded data removed]"
          },
          "metadata": {}
        }
      ]
    }
  ]
}